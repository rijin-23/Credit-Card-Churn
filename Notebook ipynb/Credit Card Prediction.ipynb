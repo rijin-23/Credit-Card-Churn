{
 "cells": [
  {
   "cell_type": "markdown",
   "metadata": {
    "application/vnd.databricks.v1+cell": {
     "cellMetadata": {},
     "inputWidgets": {},
     "nuid": "be4099c8-9acf-47a8-9091-34a408512d72",
     "showTitle": false,
     "tableResultSettingsMap": {},
     "title": ""
    }
   },
   "source": [
    "#Machine Learning - Notebook"
   ]
  },
  {
   "cell_type": "markdown",
   "metadata": {
    "application/vnd.databricks.v1+cell": {
     "cellMetadata": {},
     "inputWidgets": {},
     "nuid": "a73cae07-b8a5-44b6-b98e-9344ac008005",
     "showTitle": false,
     "tableResultSettingsMap": {},
     "title": ""
    }
   },
   "source": [
    "1. Load the data.\n",
    "2. Train the data on the classification models.\n",
    "3. Test the model using testing data.\n",
    "4. Display the confusion matrix.\n",
    "5. Calculate the metrics.\n",
    "6. Save the model.\n",
    "7. Create a report and save it in Azure ADLS"
   ]
  },
  {
   "cell_type": "markdown",
   "metadata": {
    "application/vnd.databricks.v1+cell": {
     "cellMetadata": {},
     "inputWidgets": {},
     "nuid": "1829ebcf-5c4c-4c0c-afaf-4b91b6fc68d6",
     "showTitle": false,
     "tableResultSettingsMap": {},
     "title": ""
    }
   },
   "source": [
    "## Data Fetching"
   ]
  },
  {
   "cell_type": "code",
   "execution_count": 0,
   "metadata": {
    "application/vnd.databricks.v1+cell": {
     "cellMetadata": {
      "byteLimit": 2048000,
      "rowLimit": 10000
     },
     "inputWidgets": {},
     "nuid": "d7b88dd5-67d6-45fe-9d61-49c59f514274",
     "showTitle": false,
     "tableResultSettingsMap": {},
     "title": ""
    }
   },
   "outputs": [],
   "source": [
    "%run \"./Secrets and variables\""
   ]
  },
  {
   "cell_type": "code",
   "execution_count": 0,
   "metadata": {
    "application/vnd.databricks.v1+cell": {
     "cellMetadata": {
      "byteLimit": 2048000,
      "rowLimit": 10000
     },
     "inputWidgets": {},
     "nuid": "4e7e932a-ec7f-4767-bc8f-c6e24a5d8b0d",
     "showTitle": false,
     "tableResultSettingsMap": {},
     "title": ""
    }
   },
   "outputs": [],
   "source": [
    "if not any(mnt.mountPoint == mount_point for mnt in dbutils.fs.mounts()):\n",
    "    dbutils.fs.mount(\n",
    "        source = f\"wasbs://{container_name}@{storage_acct}.blob.core.windows.net\",\n",
    "        mount_point = mount_point,\n",
    "        extra_configs = {\n",
    "            f\"fs.azure.account.key.{storage_acct}.blob.core.windows.net\": access_key\n",
    "        }\n",
    "    )"
   ]
  },
  {
   "cell_type": "code",
   "execution_count": 0,
   "metadata": {
    "application/vnd.databricks.v1+cell": {
     "cellMetadata": {
      "byteLimit": 2048000,
      "rowLimit": 10000
     },
     "inputWidgets": {},
     "nuid": "f51ac5a0-06a5-4ef0-bd5a-7c8143ad96db",
     "showTitle": false,
     "tableResultSettingsMap": {},
     "title": ""
    }
   },
   "outputs": [],
   "source": [
    "train_data = spark.read.format(\"parquet\").load(f\"{mount_point}/transformed_data/balanced_train_data.parquet/part*.parquet\")\n",
    "test_data = spark.read.format(\"parquet\").load(f\"{mount_point}/transformed_data/test_data.parquet/part*.parquet\")"
   ]
  },
  {
   "cell_type": "markdown",
   "metadata": {
    "application/vnd.databricks.v1+cell": {
     "cellMetadata": {},
     "inputWidgets": {},
     "nuid": "6234e4b3-d533-4a92-9e03-b425290d7a77",
     "showTitle": false,
     "tableResultSettingsMap": {},
     "title": ""
    }
   },
   "source": [
    "## Machine Learning"
   ]
  },
  {
   "cell_type": "code",
   "execution_count": 0,
   "metadata": {
    "application/vnd.databricks.v1+cell": {
     "cellMetadata": {
      "byteLimit": 2048000,
      "rowLimit": 10000
     },
     "inputWidgets": {},
     "nuid": "fab498c2-f4fc-4a7d-8212-8994a42d9f5f",
     "showTitle": false,
     "tableResultSettingsMap": {},
     "title": ""
    }
   },
   "outputs": [],
   "source": [
    "from pyspark.ml.classification import DecisionTreeClassifier,RandomForestClassifier, GBTClassifier,MultilayerPerceptronClassifier, LinearSVC, LogisticRegression"
   ]
  },
  {
   "cell_type": "code",
   "execution_count": 0,
   "metadata": {
    "application/vnd.databricks.v1+cell": {
     "cellMetadata": {
      "byteLimit": 2048000,
      "rowLimit": 10000
     },
     "inputWidgets": {},
     "nuid": "77dcd76c-0de1-452e-aa4a-8fd3d2e86fa9",
     "showTitle": false,
     "tableResultSettingsMap": {},
     "title": ""
    }
   },
   "outputs": [],
   "source": [
    "num_of_features = train_data.select(\"features\").first()[0].size\n"
   ]
  },
  {
   "cell_type": "markdown",
   "metadata": {
    "application/vnd.databricks.v1+cell": {
     "cellMetadata": {},
     "inputWidgets": {},
     "nuid": "21becdee-c1fd-4fa3-8615-b336fd9f10db",
     "showTitle": false,
     "tableResultSettingsMap": {},
     "title": ""
    }
   },
   "source": [
    "Model Declaration"
   ]
  },
  {
   "cell_type": "code",
   "execution_count": 0,
   "metadata": {
    "application/vnd.databricks.v1+cell": {
     "cellMetadata": {
      "byteLimit": 2048000,
      "rowLimit": 10000
     },
     "inputWidgets": {},
     "nuid": "8ba0ebc2-776d-47b6-8109-757f51acda04",
     "showTitle": false,
     "tableResultSettingsMap": {},
     "title": ""
    }
   },
   "outputs": [],
   "source": [
    "lr = LogisticRegression(labelCol='Attrition_Cat')\n",
    "decisionTree = DecisionTreeClassifier(featuresCol='features', labelCol='Attrition_Cat')\n",
    "randomForest = RandomForestClassifier(featuresCol='features', labelCol='Attrition_Cat', numTrees=15)\n",
    "gbt = GBTClassifier(featuresCol='features', labelCol='Attrition_Cat', maxIter=15)\n",
    "mlp = MultilayerPerceptronClassifier(featuresCol='features', labelCol='Attrition_Cat', maxIter=100, layers=[num_of_features, 7, 4, 2])\n",
    "svc = LinearSVC(featuresCol='features', labelCol='Attrition_Cat')"
   ]
  },
  {
   "cell_type": "markdown",
   "metadata": {
    "application/vnd.databricks.v1+cell": {
     "cellMetadata": {},
     "inputWidgets": {},
     "nuid": "b9602b7f-6d6a-4cc3-8a94-0254c50a5596",
     "showTitle": false,
     "tableResultSettingsMap": {},
     "title": ""
    }
   },
   "source": [
    "##Model Training"
   ]
  },
  {
   "cell_type": "code",
   "execution_count": 0,
   "metadata": {
    "application/vnd.databricks.v1+cell": {
     "cellMetadata": {
      "byteLimit": 2048000,
      "rowLimit": 10000
     },
     "inputWidgets": {},
     "nuid": "a885b678-ed7a-4979-911b-53afbd53319d",
     "showTitle": false,
     "tableResultSettingsMap": {},
     "title": ""
    }
   },
   "outputs": [],
   "source": [
    "model = lr.fit(train_data)"
   ]
  },
  {
   "cell_type": "code",
   "execution_count": 0,
   "metadata": {
    "application/vnd.databricks.v1+cell": {
     "cellMetadata": {
      "byteLimit": 2048000,
      "rowLimit": 10000
     },
     "inputWidgets": {},
     "nuid": "832f6078-b2b3-4785-87e5-0edfd919620a",
     "showTitle": false,
     "tableResultSettingsMap": {},
     "title": ""
    }
   },
   "outputs": [],
   "source": [
    "decisionTreeModel = decisionTree.fit(train_data)"
   ]
  },
  {
   "cell_type": "code",
   "execution_count": 0,
   "metadata": {
    "application/vnd.databricks.v1+cell": {
     "cellMetadata": {
      "byteLimit": 2048000,
      "rowLimit": 10000
     },
     "inputWidgets": {},
     "nuid": "112e3883-41f1-443b-aa57-c2993652d07d",
     "showTitle": false,
     "tableResultSettingsMap": {},
     "title": ""
    }
   },
   "outputs": [],
   "source": [
    "randomForestModel = randomForest.fit(train_data)"
   ]
  },
  {
   "cell_type": "code",
   "execution_count": 0,
   "metadata": {
    "application/vnd.databricks.v1+cell": {
     "cellMetadata": {
      "byteLimit": 2048000,
      "rowLimit": 10000
     },
     "inputWidgets": {},
     "nuid": "0c03d7ea-2cd0-483b-b30b-1c3c59dca0a5",
     "showTitle": false,
     "tableResultSettingsMap": {},
     "title": ""
    }
   },
   "outputs": [],
   "source": [
    "gbtModel = gbt.fit(train_data)"
   ]
  },
  {
   "cell_type": "code",
   "execution_count": 0,
   "metadata": {
    "application/vnd.databricks.v1+cell": {
     "cellMetadata": {
      "byteLimit": 2048000,
      "rowLimit": 10000
     },
     "inputWidgets": {},
     "nuid": "8e6c9d42-142f-4cdd-b432-bc2a0c7d9f77",
     "showTitle": false,
     "tableResultSettingsMap": {},
     "title": ""
    }
   },
   "outputs": [],
   "source": [
    "mlpModel = mlp.fit(train_data)"
   ]
  },
  {
   "cell_type": "code",
   "execution_count": 0,
   "metadata": {
    "application/vnd.databricks.v1+cell": {
     "cellMetadata": {
      "byteLimit": 2048000,
      "rowLimit": 10000
     },
     "inputWidgets": {},
     "nuid": "9cc4aa3d-3f85-44d8-b909-e4c794abc492",
     "showTitle": false,
     "tableResultSettingsMap": {},
     "title": ""
    }
   },
   "outputs": [],
   "source": [
    "svcModel = svc.fit(train_data)"
   ]
  },
  {
   "cell_type": "markdown",
   "metadata": {
    "application/vnd.databricks.v1+cell": {
     "cellMetadata": {},
     "inputWidgets": {},
     "nuid": "378a7a23-213e-41c1-9fe6-fffde27d2965",
     "showTitle": false,
     "tableResultSettingsMap": {},
     "title": ""
    }
   },
   "source": [
    "##Model Prediction"
   ]
  },
  {
   "cell_type": "code",
   "execution_count": 0,
   "metadata": {
    "application/vnd.databricks.v1+cell": {
     "cellMetadata": {
      "byteLimit": 2048000,
      "rowLimit": 10000
     },
     "inputWidgets": {},
     "nuid": "36625f52-b157-4a6f-bdcd-e9cc8cf3f3e9",
     "showTitle": false,
     "tableResultSettingsMap": {},
     "title": ""
    }
   },
   "outputs": [],
   "source": [
    "res = model.transform(test_data)"
   ]
  },
  {
   "cell_type": "code",
   "execution_count": 0,
   "metadata": {
    "application/vnd.databricks.v1+cell": {
     "cellMetadata": {
      "byteLimit": 2048000,
      "rowLimit": 10000
     },
     "inputWidgets": {},
     "nuid": "feb06ca1-8e70-4758-815a-30aa0ef47a1b",
     "showTitle": false,
     "tableResultSettingsMap": {},
     "title": ""
    }
   },
   "outputs": [],
   "source": [
    "resDecisionTreeModel = decisionTreeModel.transform(test_data)"
   ]
  },
  {
   "cell_type": "code",
   "execution_count": 0,
   "metadata": {
    "application/vnd.databricks.v1+cell": {
     "cellMetadata": {
      "byteLimit": 2048000,
      "rowLimit": 10000
     },
     "inputWidgets": {},
     "nuid": "6cf8fdcb-f1a5-46f3-9dd9-82c0cd418ff6",
     "showTitle": false,
     "tableResultSettingsMap": {},
     "title": ""
    }
   },
   "outputs": [],
   "source": [
    "resRandomForestModel = randomForestModel.transform(test_data)"
   ]
  },
  {
   "cell_type": "code",
   "execution_count": 0,
   "metadata": {
    "application/vnd.databricks.v1+cell": {
     "cellMetadata": {
      "byteLimit": 2048000,
      "rowLimit": 10000
     },
     "inputWidgets": {},
     "nuid": "5501cd8e-42cb-41c8-940d-f8a2ffd0772a",
     "showTitle": false,
     "tableResultSettingsMap": {},
     "title": ""
    }
   },
   "outputs": [],
   "source": [
    "resGBTModel = gbtModel.transform(test_data)"
   ]
  },
  {
   "cell_type": "code",
   "execution_count": 0,
   "metadata": {
    "application/vnd.databricks.v1+cell": {
     "cellMetadata": {
      "byteLimit": 2048000,
      "rowLimit": 10000
     },
     "inputWidgets": {},
     "nuid": "4f73541c-baac-459d-b864-701124c0a161",
     "showTitle": false,
     "tableResultSettingsMap": {},
     "title": ""
    }
   },
   "outputs": [],
   "source": [
    "resMLPModel = mlpModel.transform(test_data)"
   ]
  },
  {
   "cell_type": "code",
   "execution_count": 0,
   "metadata": {
    "application/vnd.databricks.v1+cell": {
     "cellMetadata": {
      "byteLimit": 2048000,
      "rowLimit": 10000
     },
     "inputWidgets": {},
     "nuid": "f60fefd2-0dc8-49a7-afa6-67e98cdecdb9",
     "showTitle": false,
     "tableResultSettingsMap": {},
     "title": ""
    }
   },
   "outputs": [],
   "source": [
    "resSVCModel = svcModel.transform(test_data)"
   ]
  },
  {
   "cell_type": "markdown",
   "metadata": {
    "application/vnd.databricks.v1+cell": {
     "cellMetadata": {},
     "inputWidgets": {},
     "nuid": "7b739c5d-039a-4430-b034-648f54d79675",
     "showTitle": false,
     "tableResultSettingsMap": {},
     "title": ""
    }
   },
   "source": [
    "## Evaluation"
   ]
  },
  {
   "cell_type": "code",
   "execution_count": 0,
   "metadata": {
    "application/vnd.databricks.v1+cell": {
     "cellMetadata": {
      "byteLimit": 2048000,
      "rowLimit": 10000
     },
     "inputWidgets": {},
     "nuid": "d5131315-5ff3-4481-a079-b65484a81e29",
     "showTitle": false,
     "tableResultSettingsMap": {},
     "title": ""
    }
   },
   "outputs": [],
   "source": [
    "from pyspark.ml.evaluation import BinaryClassificationEvaluator"
   ]
  },
  {
   "cell_type": "code",
   "execution_count": 0,
   "metadata": {
    "application/vnd.databricks.v1+cell": {
     "cellMetadata": {
      "byteLimit": 2048000,
      "rowLimit": 10000
     },
     "inputWidgets": {},
     "nuid": "3e2c2604-a159-400a-85c1-479a5d9dc20a",
     "showTitle": false,
     "tableResultSettingsMap": {},
     "title": ""
    }
   },
   "outputs": [],
   "source": [
    "AUC_evaluator = BinaryClassificationEvaluator(rawPredictionCol='prediction',labelCol='Attrition_Cat',metricName='areaUnderROC')"
   ]
  },
  {
   "cell_type": "code",
   "execution_count": 0,
   "metadata": {
    "application/vnd.databricks.v1+cell": {
     "cellMetadata": {
      "byteLimit": 2048000,
      "rowLimit": 10000
     },
     "inputWidgets": {},
     "nuid": "28ea1333-bcae-4c81-b429-29b81ce8668e",
     "showTitle": false,
     "tableResultSettingsMap": {},
     "title": ""
    }
   },
   "outputs": [],
   "source": [
    "AUC = AUC_evaluator.evaluate(res)\n",
    "AUC_DecisionTree = AUC_evaluator.evaluate(resDecisionTreeModel)\n",
    "AUC_RandomForest = AUC_evaluator.evaluate(resRandomForestModel)\n",
    "AUC_GBT = AUC_evaluator.evaluate(resGBTModel)\n",
    "AUC_MLP = AUC_evaluator.evaluate(resMLPModel)\n",
    "AUC_SVC = AUC_evaluator.evaluate(resSVCModel)   "
   ]
  },
  {
   "cell_type": "code",
   "execution_count": 0,
   "metadata": {
    "application/vnd.databricks.v1+cell": {
     "cellMetadata": {
      "byteLimit": 2048000,
      "rowLimit": 10000
     },
     "inputWidgets": {},
     "nuid": "a6bdc555-07a0-43b9-ab22-43d5fd9f1308",
     "showTitle": false,
     "tableResultSettingsMap": {},
     "title": ""
    }
   },
   "outputs": [
    {
     "output_type": "stream",
     "name": "stdout",
     "output_type": "stream",
     "text": [
      "The AUC for Logistic Regression Model is: 0.8496200607902736\nThe AUC for Decision Tree Model is: 0.8985562310030396\nThe AUC for Random Forest Model is: 0.8391717325227963\nThe AUC for GBT Model is: 0.9153115501519756\nThe AUC for MLP Model is: 0.8842325227963527\nThe AUC for SVC Model is: 0.8504179331306991\n"
     ]
    }
   ],
   "source": [
    "print(f\"The AUC for Logistic Regression Model is: {AUC}\")\n",
    "print(f\"The AUC for Decision Tree Model is: {AUC_DecisionTree}\")\n",
    "print(f\"The AUC for Random Forest Model is: {AUC_RandomForest}\")\n",
    "print(f\"The AUC for GBT Model is: {AUC_GBT}\")\n",
    "print(f\"The AUC for MLP Model is: {AUC_MLP}\")\n",
    "print(f\"The AUC for SVC Model is: {AUC_SVC}\")"
   ]
  },
  {
   "cell_type": "code",
   "execution_count": 0,
   "metadata": {
    "application/vnd.databricks.v1+cell": {
     "cellMetadata": {
      "byteLimit": 2048000,
      "rowLimit": 10000
     },
     "inputWidgets": {},
     "nuid": "b65dd9c7-ee5f-4664-90cf-1dc025d6dfa5",
     "showTitle": false,
     "tableResultSettingsMap": {},
     "title": ""
    }
   },
   "outputs": [],
   "source": [
    "PR_evaluator = BinaryClassificationEvaluator(rawPredictionCol='prediction',labelCol='Attrition_Cat',metricName='areaUnderPR')"
   ]
  },
  {
   "cell_type": "code",
   "execution_count": 0,
   "metadata": {
    "application/vnd.databricks.v1+cell": {
     "cellMetadata": {
      "byteLimit": 2048000,
      "rowLimit": 10000
     },
     "inputWidgets": {},
     "nuid": "967d6590-28b1-4661-b1fc-3900bb462cb2",
     "showTitle": false,
     "tableResultSettingsMap": {},
     "title": ""
    }
   },
   "outputs": [],
   "source": [
    "PR = PR_evaluator.evaluate(res)\n",
    "PR_DecisionTree = PR_evaluator.evaluate(resDecisionTreeModel)\n",
    "PR_RandomForest = PR_evaluator.evaluate(resRandomForestModel)\n",
    "PR_GBT = PR_evaluator.evaluate(resGBTModel)\n",
    "PR_MLP = PR_evaluator.evaluate(resMLPModel)\n",
    "PR_SVC = PR_evaluator.evaluate(resSVCModel)"
   ]
  },
  {
   "cell_type": "code",
   "execution_count": 0,
   "metadata": {
    "application/vnd.databricks.v1+cell": {
     "cellMetadata": {
      "byteLimit": 2048000,
      "rowLimit": 10000
     },
     "inputWidgets": {},
     "nuid": "a67bd92d-74ee-4456-add4-02e78cb9efc2",
     "showTitle": false,
     "tableResultSettingsMap": {},
     "title": ""
    }
   },
   "outputs": [
    {
     "output_type": "stream",
     "name": "stdout",
     "output_type": "stream",
     "text": [
      "The PR for Logistic Regression Model is: 0.5020241633165629\nThe PR for Decision Tree Model is: 0.6409701720452\nThe PR for Random Forest Model is: 0.6065219474793944\nThe PR for GBT Model is: 0.703751882405743\nThe PR for MLP Model is: 0.5677754884646652\nThe PR for SVC Model is: 0.49933611379755\n"
     ]
    }
   ],
   "source": [
    "print(f\"The PR for Logistic Regression Model is: {PR}\")\n",
    "print(f\"The PR for Decision Tree Model is: {PR_DecisionTree}\")\n",
    "print(f\"The PR for Random Forest Model is: {PR_RandomForest}\")\n",
    "print(f\"The PR for GBT Model is: {PR_GBT}\")\n",
    "print(f\"The PR for MLP Model is: {PR_MLP}\")\n",
    "print(f\"The PR for SVC Model is: {PR_SVC}\")"
   ]
  },
  {
   "cell_type": "code",
   "execution_count": 0,
   "metadata": {
    "application/vnd.databricks.v1+cell": {
     "cellMetadata": {
      "byteLimit": 2048000,
      "rowLimit": 10000
     },
     "inputWidgets": {},
     "nuid": "6e8d2a38-e4a8-4024-93b9-f5a3083fcadb",
     "showTitle": false,
     "tableResultSettingsMap": {},
     "title": ""
    }
   },
   "outputs": [],
   "source": [
    "from pyspark.ml.evaluation import MulticlassClassificationEvaluator"
   ]
  },
  {
   "cell_type": "code",
   "execution_count": 0,
   "metadata": {
    "application/vnd.databricks.v1+cell": {
     "cellMetadata": {
      "byteLimit": 2048000,
      "rowLimit": 10000
     },
     "inputWidgets": {},
     "nuid": "201c138b-3b41-4e74-a691-1b7eb541d79e",
     "showTitle": false,
     "tableResultSettingsMap": {},
     "title": ""
    }
   },
   "outputs": [],
   "source": [
    "ACC_evaluator = MulticlassClassificationEvaluator(labelCol=\"Attrition_Cat\", predictionCol=\"prediction\", metricName=\"accuracy\")"
   ]
  },
  {
   "cell_type": "code",
   "execution_count": 0,
   "metadata": {
    "application/vnd.databricks.v1+cell": {
     "cellMetadata": {
      "byteLimit": 2048000,
      "rowLimit": 10000
     },
     "inputWidgets": {},
     "nuid": "9a0fcc31-f013-421f-b5e0-1690ac800a07",
     "showTitle": false,
     "tableResultSettingsMap": {},
     "title": ""
    }
   },
   "outputs": [],
   "source": [
    "accuracy = ACC_evaluator.evaluate(res)\n",
    "Acc_DecisionTree = ACC_evaluator.evaluate(resDecisionTreeModel)\n",
    "Acc_RandomForest = ACC_evaluator.evaluate(resRandomForestModel)\n",
    "Acc_GBT = ACC_evaluator.evaluate(resGBTModel)\n",
    "Acc_MLP = ACC_evaluator.evaluate(resMLPModel)\n",
    "Acc_SVC = ACC_evaluator.evaluate(resSVCModel)"
   ]
  },
  {
   "cell_type": "code",
   "execution_count": 0,
   "metadata": {
    "application/vnd.databricks.v1+cell": {
     "cellMetadata": {
      "byteLimit": 2048000,
      "rowLimit": 10000
     },
     "inputWidgets": {},
     "nuid": "dabdec39-6212-4f59-9c65-1e0da84e07c8",
     "showTitle": false,
     "tableResultSettingsMap": {},
     "title": ""
    }
   },
   "outputs": [
    {
     "output_type": "stream",
     "name": "stdout",
     "output_type": "stream",
     "text": [
      "The Accuracy for the model is: 0.8649258542875564\nThe Accuracy for Decision Tree Model is: 0.9168278529980658\nThe Accuracy for Random Forest Model is: 0.9065119277885235\nThe Accuracy for GBT Model is: 0.9348807221147647\nThe Accuracy for MLP Model is: 0.8910380399742102\nThe Accuracy for SVC Model is: 0.8633139909735654\n"
     ]
    }
   ],
   "source": [
    "print(f\"The Accuracy for the model is: {accuracy}\")\n",
    "print(f\"The Accuracy for Decision Tree Model is: {Acc_DecisionTree}\")\n",
    "print(f\"The Accuracy for Random Forest Model is: {Acc_RandomForest}\")\n",
    "print(f\"The Accuracy for GBT Model is: {Acc_GBT}\")\n",
    "print(f\"The Accuracy for MLP Model is: {Acc_MLP}\")\n",
    "print(f\"The Accuracy for SVC Model is: {Acc_SVC}\")"
   ]
  },
  {
   "cell_type": "markdown",
   "metadata": {
    "application/vnd.databricks.v1+cell": {
     "cellMetadata": {},
     "inputWidgets": {},
     "nuid": "900cb20b-6be6-431f-88e6-5f32e4a38247",
     "showTitle": false,
     "tableResultSettingsMap": {},
     "title": ""
    }
   },
   "source": [
    "## Confusion Matrices"
   ]
  },
  {
   "cell_type": "code",
   "execution_count": 0,
   "metadata": {
    "application/vnd.databricks.v1+cell": {
     "cellMetadata": {
      "byteLimit": 2048000,
      "rowLimit": 10000
     },
     "inputWidgets": {},
     "nuid": "c0097fa4-1fcc-4928-ba9d-633bbde97604",
     "showTitle": false,
     "tableResultSettingsMap": {},
     "title": ""
    }
   },
   "outputs": [],
   "source": [
    "from pyspark.mllib.evaluation import MulticlassMetrics"
   ]
  },
  {
   "cell_type": "code",
   "execution_count": 0,
   "metadata": {
    "application/vnd.databricks.v1+cell": {
     "cellMetadata": {
      "byteLimit": 2048000,
      "rowLimit": 10000
     },
     "inputWidgets": {},
     "nuid": "8b09e0b1-adca-4193-b5b0-6c60104aa223",
     "showTitle": false,
     "tableResultSettingsMap": {},
     "title": ""
    }
   },
   "outputs": [
    {
     "output_type": "stream",
     "name": "stderr",
     "output_type": "stream",
     "text": [
      "/databricks/spark/python/pyspark/sql/context.py:164: FutureWarning: Deprecated in 3.0.0. Use SparkSession.builder.getOrCreate() instead.\n  warnings.warn(\n"
     ]
    },
    {
     "output_type": "execute_result",
     "data": {
      "text/plain": [
       "array([[2294.,   81.],\n",
       "       [ 338.,  389.]])"
      ]
     },
     "execution_count": 303,
     "metadata": {},
     "output_type": "execute_result"
    }
   ],
   "source": [
    "y_true = res.select(['Attrition_Cat'])\n",
    "y_pred = res.select(['prediction'])\n",
    "\n",
    "actualFloat = y_true.rdd.map(lambda x: float(x[0]))\n",
    "predFloat = y_pred.rdd.map(lambda x: float(x[0]))\n",
    "\n",
    "pairs = actualFloat.zip(predFloat)\n",
    "\n",
    "metrics = MulticlassMetrics(pairs)\n",
    "metrics.confusionMatrix().toArray()"
   ]
  },
  {
   "cell_type": "code",
   "execution_count": 0,
   "metadata": {
    "application/vnd.databricks.v1+cell": {
     "cellMetadata": {
      "byteLimit": 2048000,
      "rowLimit": 10000
     },
     "inputWidgets": {},
     "nuid": "5841adef-b01f-4ace-a171-e36465942cb5",
     "showTitle": false,
     "tableResultSettingsMap": {},
     "title": ""
    }
   },
   "outputs": [],
   "source": [
    "logisticRegressionPrecision = metrics.recall(1.0)\n",
    "logisticRegressionRecall = metrics.precision(1.0)\n",
    "logisticRegressionF1Score = metrics.fMeasure(1.0)"
   ]
  },
  {
   "cell_type": "code",
   "execution_count": 0,
   "metadata": {
    "application/vnd.databricks.v1+cell": {
     "cellMetadata": {
      "byteLimit": 2048000,
      "rowLimit": 10000
     },
     "inputWidgets": {},
     "nuid": "4b78bcbf-34f4-46ca-a045-9266720991a2",
     "showTitle": false,
     "tableResultSettingsMap": {},
     "title": ""
    }
   },
   "outputs": [
    {
     "output_type": "stream",
     "name": "stderr",
     "output_type": "stream",
     "text": [
      "/databricks/spark/python/pyspark/sql/context.py:164: FutureWarning: Deprecated in 3.0.0. Use SparkSession.builder.getOrCreate() instead.\n  warnings.warn(\n"
     ]
    },
    {
     "output_type": "execute_result",
     "data": {
      "text/plain": [
       "array([[2434.,   60.],\n",
       "       [ 198.,  410.]])"
      ]
     },
     "execution_count": 305,
     "metadata": {},
     "output_type": "execute_result"
    }
   ],
   "source": [
    "y_true = resDecisionTreeModel.select(['Attrition_Cat'])\n",
    "y_pred = resDecisionTreeModel.select(['prediction'])\n",
    "\n",
    "actualFloat = y_true.rdd.map(lambda x: float(x[0]))\n",
    "predFloat = y_pred.rdd.map(lambda x: float(x[0]))\n",
    "\n",
    "pairs = actualFloat.zip(predFloat)\n",
    "\n",
    "metrics = MulticlassMetrics(pairs)\n",
    "metrics.confusionMatrix().toArray()\n"
   ]
  },
  {
   "cell_type": "code",
   "execution_count": 0,
   "metadata": {
    "application/vnd.databricks.v1+cell": {
     "cellMetadata": {
      "byteLimit": 2048000,
      "rowLimit": 10000
     },
     "inputWidgets": {},
     "nuid": "aa39c832-e79d-43da-8290-6887a43caafd",
     "showTitle": false,
     "tableResultSettingsMap": {},
     "title": ""
    }
   },
   "outputs": [],
   "source": [
    "decisionTreePrecision = metrics.recall(1.0)\n",
    "decisionTreeRecall = metrics.precision(1.0)\n",
    "decisionTreeF1Score = metrics.fMeasure(1.0)"
   ]
  },
  {
   "cell_type": "code",
   "execution_count": 0,
   "metadata": {
    "application/vnd.databricks.v1+cell": {
     "cellMetadata": {
      "byteLimit": 2048000,
      "rowLimit": 10000
     },
     "inputWidgets": {},
     "nuid": "66049694-b8fa-41ea-9b4c-cc7cae7ada36",
     "showTitle": false,
     "tableResultSettingsMap": {},
     "title": ""
    }
   },
   "outputs": [
    {
     "output_type": "stream",
     "name": "stderr",
     "output_type": "stream",
     "text": [
      "/databricks/spark/python/pyspark/sql/context.py:164: FutureWarning: Deprecated in 3.0.0. Use SparkSession.builder.getOrCreate() instead.\n  warnings.warn(\n"
     ]
    },
    {
     "output_type": "execute_result",
     "data": {
      "text/plain": [
       "array([[2463.,  121.],\n",
       "       [ 169.,  349.]])"
      ]
     },
     "execution_count": 307,
     "metadata": {},
     "output_type": "execute_result"
    }
   ],
   "source": [
    "y_true = resRandomForestModel.select(['Attrition_Cat'])\n",
    "y_pred = resRandomForestModel.select(['prediction'])\n",
    "\n",
    "actualFloat = y_true.rdd.map(lambda x: float(x[0]))\n",
    "predFloat = y_pred.rdd.map(lambda x: float(x[0]))\n",
    "\n",
    "pairs = actualFloat.zip(predFloat)\n",
    "\n",
    "metrics = MulticlassMetrics(pairs)\n",
    "metrics.confusionMatrix().toArray()\n"
   ]
  },
  {
   "cell_type": "code",
   "execution_count": 0,
   "metadata": {
    "application/vnd.databricks.v1+cell": {
     "cellMetadata": {
      "byteLimit": 2048000,
      "rowLimit": 10000
     },
     "inputWidgets": {},
     "nuid": "97d6fd74-2378-4185-b683-93e3cc6d8e6f",
     "showTitle": false,
     "tableResultSettingsMap": {},
     "title": ""
    }
   },
   "outputs": [],
   "source": [
    "randomForestPrecision = metrics.recall(1.0)\n",
    "randomForestRecall = metrics.precision(1.0)\n",
    "randomForestF1Score = metrics.fMeasure(1.0)"
   ]
  },
  {
   "cell_type": "code",
   "execution_count": 0,
   "metadata": {
    "application/vnd.databricks.v1+cell": {
     "cellMetadata": {
      "byteLimit": 2048000,
      "rowLimit": 10000
     },
     "inputWidgets": {},
     "nuid": "42120676-8b45-41e7-b247-73faf38e0b96",
     "showTitle": false,
     "tableResultSettingsMap": {},
     "title": ""
    }
   },
   "outputs": [
    {
     "output_type": "stream",
     "name": "stderr",
     "output_type": "stream",
     "text": [
      "/databricks/spark/python/pyspark/sql/context.py:164: FutureWarning: Deprecated in 3.0.0. Use SparkSession.builder.getOrCreate() instead.\n  warnings.warn(\n"
     ]
    },
    {
     "output_type": "execute_result",
     "data": {
      "text/plain": [
       "array([[2483.,   53.],\n",
       "       [ 149.,  417.]])"
      ]
     },
     "execution_count": 309,
     "metadata": {},
     "output_type": "execute_result"
    }
   ],
   "source": [
    "y_true = resGBTModel.select(['Attrition_Cat'])\n",
    "y_pred = resGBTModel.select(['prediction'])\n",
    "\n",
    "actualFloat = y_true.rdd.map(lambda x: float(x[0]))\n",
    "predFloat = y_pred.rdd.map(lambda x: float(x[0]))\n",
    "\n",
    "pairs = actualFloat.zip(predFloat)\n",
    "\n",
    "metrics = MulticlassMetrics(pairs)\n",
    "metrics.confusionMatrix().toArray()\n"
   ]
  },
  {
   "cell_type": "code",
   "execution_count": 0,
   "metadata": {
    "application/vnd.databricks.v1+cell": {
     "cellMetadata": {
      "byteLimit": 2048000,
      "rowLimit": 10000
     },
     "inputWidgets": {},
     "nuid": "704c219e-21e9-48f6-b87d-c88de1f0c41a",
     "showTitle": false,
     "tableResultSettingsMap": {},
     "title": ""
    }
   },
   "outputs": [],
   "source": [
    "gbtPrecision = metrics.recall(1.0)\n",
    "gbtRecall = metrics.precision(1.0)\n",
    "gbtF1Score = metrics.fMeasure(1.0)"
   ]
  },
  {
   "cell_type": "code",
   "execution_count": 0,
   "metadata": {
    "application/vnd.databricks.v1+cell": {
     "cellMetadata": {
      "byteLimit": 2048000,
      "rowLimit": 10000
     },
     "inputWidgets": {},
     "nuid": "5be2e700-e2f6-4cfb-b9e0-1e4a9d469fc3",
     "showTitle": false,
     "tableResultSettingsMap": {},
     "title": ""
    }
   },
   "outputs": [
    {
     "output_type": "stream",
     "name": "stderr",
     "output_type": "stream",
     "text": [
      "/databricks/spark/python/pyspark/sql/context.py:164: FutureWarning: Deprecated in 3.0.0. Use SparkSession.builder.getOrCreate() instead.\n  warnings.warn(\n"
     ]
    },
    {
     "output_type": "execute_result",
     "data": {
      "text/plain": [
       "array([[2353.,   59.],\n",
       "       [ 279.,  411.]])"
      ]
     },
     "execution_count": 311,
     "metadata": {},
     "output_type": "execute_result"
    }
   ],
   "source": [
    "y_true = resMLPModel.select(['Attrition_Cat'])\n",
    "y_pred = resMLPModel.select(['prediction'])\n",
    "\n",
    "actualFloat = y_true.rdd.map(lambda x: float(x[0]))\n",
    "predFloat = y_pred.rdd.map(lambda x: float(x[0]))\n",
    "\n",
    "pairs = actualFloat.zip(predFloat)\n",
    "\n",
    "metrics = MulticlassMetrics(pairs)\n",
    "metrics.confusionMatrix().toArray()\n"
   ]
  },
  {
   "cell_type": "code",
   "execution_count": 0,
   "metadata": {
    "application/vnd.databricks.v1+cell": {
     "cellMetadata": {
      "byteLimit": 2048000,
      "rowLimit": 10000
     },
     "inputWidgets": {},
     "nuid": "aca52777-60c3-4d30-aa93-10347db19bfb",
     "showTitle": false,
     "tableResultSettingsMap": {},
     "title": ""
    }
   },
   "outputs": [],
   "source": [
    "mlpPrecision = metrics.recall(1.0)\n",
    "mlpRecall = metrics.precision(1.0)\n",
    "mlpF1Score = metrics.fMeasure(1.0)"
   ]
  },
  {
   "cell_type": "code",
   "execution_count": 0,
   "metadata": {
    "application/vnd.databricks.v1+cell": {
     "cellMetadata": {
      "byteLimit": 2048000,
      "rowLimit": 10000
     },
     "inputWidgets": {},
     "nuid": "f99e4717-bfe2-446f-b644-5b84d75f1e2b",
     "showTitle": false,
     "tableResultSettingsMap": {},
     "title": ""
    }
   },
   "outputs": [
    {
     "output_type": "stream",
     "name": "stderr",
     "output_type": "stream",
     "text": [
      "/databricks/spark/python/pyspark/sql/context.py:164: FutureWarning: Deprecated in 3.0.0. Use SparkSession.builder.getOrCreate() instead.\n  warnings.warn(\n"
     ]
    },
    {
     "output_type": "execute_result",
     "data": {
      "text/plain": [
       "array([[2287.,   79.],\n",
       "       [ 345.,  391.]])"
      ]
     },
     "execution_count": 313,
     "metadata": {},
     "output_type": "execute_result"
    }
   ],
   "source": [
    "y_true = resSVCModel.select(['Attrition_Cat'])\n",
    "y_pred = resSVCModel.select(['prediction'])\n",
    "\n",
    "actualFloat = y_true.rdd.map(lambda x: float(x[0]))\n",
    "predFloat = y_pred.rdd.map(lambda x: float(x[0]))\n",
    "\n",
    "pairs = actualFloat.zip(predFloat)\n",
    "\n",
    "metrics = MulticlassMetrics(pairs)\n",
    "metrics.confusionMatrix().toArray()\n"
   ]
  },
  {
   "cell_type": "code",
   "execution_count": 0,
   "metadata": {
    "application/vnd.databricks.v1+cell": {
     "cellMetadata": {
      "byteLimit": 2048000,
      "rowLimit": 10000
     },
     "inputWidgets": {},
     "nuid": "ac86ebcb-13e7-4b89-97fb-44ee7d26be17",
     "showTitle": false,
     "tableResultSettingsMap": {},
     "title": ""
    }
   },
   "outputs": [],
   "source": [
    "svcPrecision = metrics.recall(1.0)\n",
    "svcRecall = metrics.precision(1.0)\n",
    "svcF1Score = metrics.fMeasure(1.0)"
   ]
  },
  {
   "cell_type": "markdown",
   "metadata": {
    "application/vnd.databricks.v1+cell": {
     "cellMetadata": {},
     "inputWidgets": {},
     "nuid": "bc57295b-58d8-4bd8-8c45-716375c54843",
     "showTitle": false,
     "tableResultSettingsMap": {},
     "title": ""
    }
   },
   "source": [
    "## Saving the models"
   ]
  },
  {
   "cell_type": "code",
   "execution_count": 0,
   "metadata": {
    "application/vnd.databricks.v1+cell": {
     "cellMetadata": {
      "byteLimit": 2048000,
      "rowLimit": 10000
     },
     "inputWidgets": {},
     "nuid": "878cdd53-5482-4677-98af-18161f263c34",
     "showTitle": false,
     "tableResultSettingsMap": {},
     "title": ""
    }
   },
   "outputs": [],
   "source": [
    "model.write().overwrite().save(f\"{mount_point}/models/LogisticRegressionModel\")\n",
    "decisionTreeModel.write().overwrite().save(f\"{mount_point}/models/DecisionTreeModel\")\n",
    "randomForestModel.write().overwrite().save(f\"{mount_point}/models/RandomForestModel\")\n",
    "gbtModel.write().overwrite().save(f\"{mount_point}/models/GBTModel\")\n",
    "mlpModel.write().overwrite().save(f\"{mount_point}/models/MLPModel\")\n",
    "svcModel.write().overwrite().save(f\"{mount_point}/models/SVCModel\")"
   ]
  },
  {
   "cell_type": "markdown",
   "metadata": {
    "application/vnd.databricks.v1+cell": {
     "cellMetadata": {},
     "inputWidgets": {},
     "nuid": "de822db1-b6db-4f29-bb03-c3e77401a351",
     "showTitle": false,
     "tableResultSettingsMap": {},
     "title": ""
    }
   },
   "source": [
    "## Report Generation"
   ]
  },
  {
   "cell_type": "code",
   "execution_count": 0,
   "metadata": {
    "application/vnd.databricks.v1+cell": {
     "cellMetadata": {
      "byteLimit": 2048000,
      "rowLimit": 10000
     },
     "inputWidgets": {},
     "nuid": "1bdf72e9-dd47-4826-bf2e-44f52b2065a3",
     "showTitle": false,
     "tableResultSettingsMap": {},
     "title": ""
    }
   },
   "outputs": [],
   "source": [
    "modelList = {\"LogisticRegression\": {\n",
    "    \"AUC\": AUC,\n",
    "    \"PR\": PR,\n",
    "    \"Accuracy\": accuracy,\n",
    "    \"Precision\": logisticRegressionPrecision,\n",
    "    \"Recall\": logisticRegressionRecall,\n",
    "    \"F1\": logisticRegressionF1Score\n",
    "},\n",
    "             \"DecisionTree\": {\n",
    "                \"AUC\":AUC_DecisionTree,\n",
    "                \"PR\": PR_DecisionTree,\n",
    "                \"Accuracy\": Acc_DecisionTree,\n",
    "                \"Precision\": decisionTreePrecision,\n",
    "                \"Recall\": decisionTreeRecall,\n",
    "                \"F1\": decisionTreeF1Score\n",
    "             },\n",
    "             \"RandomForest\": {\n",
    "                 \"AUC\":AUC_RandomForest,\n",
    "                 \"PR\": PR_RandomForest,\n",
    "                 \"Accuracy\": Acc_RandomForest,\n",
    "                 \"Precision\": randomForestPrecision,\n",
    "                 \"Recall\": randomForestRecall,\n",
    "                 \"F1\": randomForestF1Score\n",
    "             },\n",
    "             \"GBT\": {\n",
    "                 \"AUC\":AUC_GBT,\n",
    "                 \"PR\": PR_GBT,\n",
    "                 \"Accuracy\": Acc_GBT,\n",
    "                 \"Precision\": gbtPrecision,\n",
    "                 \"Recall\": gbtRecall,\n",
    "                 \"F1\": gbtF1Score\n",
    "             },\n",
    "             \"MLP\": {\n",
    "                 \"AUC\":AUC_MLP,\n",
    "                 \"PR\": PR_MLP,\n",
    "                 \"Accuracy\": Acc_MLP,\n",
    "                 \"Precision\": mlpPrecision,\n",
    "                 \"Recall\": mlpRecall,\n",
    "                 \"F1\": mlpF1Score\n",
    "                 },\n",
    "             \"SVC\": {\n",
    "                 \"AUC\":AUC_SVC,\n",
    "                 \"PR\": PR_SVC,\n",
    "                 \"Accuracy\": Acc_SVC,\n",
    "                 \"Precision\": svcPrecision,\n",
    "                 \"Recall\": svcRecall,\n",
    "                 \"F1\": svcF1Score\n",
    "             }\n",
    "}"
   ]
  },
  {
   "cell_type": "code",
   "execution_count": 0,
   "metadata": {
    "application/vnd.databricks.v1+cell": {
     "cellMetadata": {
      "byteLimit": 2048000,
      "rowLimit": 10000
     },
     "inputWidgets": {},
     "nuid": "fd23b488-b58f-4090-a617-9f2773330b0c",
     "showTitle": false,
     "tableResultSettingsMap": {},
     "title": ""
    }
   },
   "outputs": [],
   "source": [
    "reportList = []\n",
    "for modelName, modelMetrics in modelList.items():\n",
    "    reportList.append((modelName, modelMetrics[\"AUC\"], modelMetrics[\"PR\"], modelMetrics[\"Accuracy\"],modelMetrics[\"Precision\"], modelMetrics[\"Recall\"], modelMetrics[\"F1\"]))"
   ]
  },
  {
   "cell_type": "code",
   "execution_count": 0,
   "metadata": {
    "application/vnd.databricks.v1+cell": {
     "cellMetadata": {
      "byteLimit": 2048000,
      "rowLimit": 10000
     },
     "inputWidgets": {},
     "nuid": "c16d618c-06c3-4964-b6ef-7ab950e43fb3",
     "showTitle": false,
     "tableResultSettingsMap": {},
     "title": ""
    }
   },
   "outputs": [],
   "source": [
    "reportDf = spark.createDataFrame(reportList, [\"Model\", \"AUC\", \"PR\", \"Accuracy\",\"Precision\",\"Recall\",\"F1 Score\"])"
   ]
  },
  {
   "cell_type": "code",
   "execution_count": 0,
   "metadata": {
    "application/vnd.databricks.v1+cell": {
     "cellMetadata": {
      "byteLimit": 2048000,
      "rowLimit": 10000
     },
     "inputWidgets": {},
     "nuid": "c9e5e462-bacf-48a8-ac85-5a042a629148",
     "showTitle": false,
     "tableResultSettingsMap": {},
     "title": ""
    }
   },
   "outputs": [],
   "source": [
    "reportDf.coalesce(1).write. \\\n",
    "    mode(\"overwrite\"). \\\n",
    "        format(\"csv\"). \\\n",
    "            option(\"header\", \"true\"). \\\n",
    "                save(f\"{mount_point}/reports/model_report.csv\")"
   ]
  },
  {
   "cell_type": "code",
   "execution_count": 0,
   "metadata": {
    "application/vnd.databricks.v1+cell": {
     "cellMetadata": {
      "byteLimit": 2048000,
      "rowLimit": 10000
     },
     "inputWidgets": {},
     "nuid": "36fce20b-92b1-4f61-90a2-47bc35fab33d",
     "showTitle": false,
     "tableResultSettingsMap": {},
     "title": ""
    }
   },
   "outputs": [],
   "source": []
  }
 ],
 "metadata": {
  "application/vnd.databricks.v1+notebook": {
   "dashboards": [],
   "environmentMetadata": {
    "base_environment": "",
    "client": "1"
   },
   "language": "python",
   "notebookMetadata": {
    "pythonIndentUnit": 4
   },
   "notebookName": "Credit Card Prediction",
   "widgets": {}
  },
  "language_info": {
   "name": "python"
  }
 },
 "nbformat": 4,
 "nbformat_minor": 0
}
